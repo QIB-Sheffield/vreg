{
  "cells": [
    {
      "cell_type": "markdown",
      "metadata": {},
      "source": [
        "\n# Plot bounding box\n"
      ]
    },
    {
      "cell_type": "code",
      "execution_count": null,
      "metadata": {
        "collapsed": false
      },
      "outputs": [],
      "source": [
        "import numpy as np\n\nimport vreg\n\n\n\n# Define geometry of source data\ninput_shape = np.array([300, 250, 12])   # mm\npixel_spacing = np.array([1.25, 1.25, 10]) # mm\nrotation_angle = 0.5 * (np.pi/2) # radians\nrotation_axis = [1,0,0]\ntranslation = np.array([0, -40, 180]) # mm\nmargin = 10 # mm\n\n# Generate reference volume\nrotation = rotation_angle * np.array(rotation_axis)/np.linalg.norm(rotation_axis)\ninput_affine = vreg.affine_matrix(rotation=rotation, translation=translation, pixel_spacing=pixel_spacing)\n#input_data, input_affine = vreg.fake.generate('double ellipsoid', shape=input_shape, affine=input_affine, markers=False)\ninput_data, input_affine = vreg.generate('triple ellipsoid', shape=input_shape, affine=input_affine, markers=False)\n\n# Perform translation with reshaping\noutput_data, output_affine = vreg.bounding_box(input_data, input_affine, margin=margin)\n\n# Display results\nvreg.plot_bounding_box(input_data, input_affine, output_data.shape, output_affine, off_screen=True)"
      ]
    }
  ],
  "metadata": {
    "kernelspec": {
      "display_name": "Python 3",
      "language": "python",
      "name": "python3"
    },
    "language_info": {
      "codemirror_mode": {
        "name": "ipython",
        "version": 3
      },
      "file_extension": ".py",
      "mimetype": "text/x-python",
      "name": "python",
      "nbconvert_exporter": "python",
      "pygments_lexer": "ipython3",
      "version": "3.10.10"
    }
  },
  "nbformat": 4,
  "nbformat_minor": 0
}