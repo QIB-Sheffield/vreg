{
  "cells": [
    {
      "cell_type": "markdown",
      "metadata": {},
      "source": [
        "\n# Align freeform\n"
      ]
    },
    {
      "cell_type": "markdown",
      "metadata": {},
      "source": [
        "Setup\n\n"
      ]
    },
    {
      "cell_type": "code",
      "execution_count": null,
      "metadata": {
        "collapsed": false
      },
      "outputs": [],
      "source": [
        "import numpy as np\nimport vreg\n\n# Set this to False to show the results\nOFF_SCREEN = True"
      ]
    },
    {
      "cell_type": "markdown",
      "metadata": {},
      "source": [
        "Define geometry of source data\n\n"
      ]
    },
    {
      "cell_type": "code",
      "execution_count": null,
      "metadata": {
        "collapsed": false
      },
      "outputs": [],
      "source": [
        "input_shape = np.array([300, 250, 25])   # mm\npixel_spacing = np.array([1.25, 1.25, 5.0]) # mm\ntranslation = np.array([0, 0, 0]) # mm\nrotation_angle = 0.2 * (np.pi/2) # radians\nrotation_axis = [1,0,0]"
      ]
    },
    {
      "cell_type": "markdown",
      "metadata": {},
      "source": [
        "Generate source data\n\n"
      ]
    },
    {
      "cell_type": "code",
      "execution_count": null,
      "metadata": {
        "collapsed": false
      },
      "outputs": [],
      "source": [
        "rotation = rotation_angle * np.array(rotation_axis)/np.linalg.norm(rotation_axis)\ninput_affine = vreg.affine_matrix(rotation=rotation, translation=translation, pixel_spacing=pixel_spacing)\ninput_data, input_affine = vreg.generate('triple ellipsoid', shape=input_shape, affine=input_affine, markers=False)"
      ]
    },
    {
      "cell_type": "markdown",
      "metadata": {},
      "source": [
        "Define affine transformation\n\n"
      ]
    },
    {
      "cell_type": "code",
      "execution_count": null,
      "metadata": {
        "collapsed": false
      },
      "outputs": [],
      "source": [
        "stretch = [1.0, 1.5, 1.5]\ntranslation = np.array([30, -80, -20]) # mm\nrotation_angle = 0.50 * (np.pi/2)\nrotation_axis = [0,0,1]\nrotation = rotation_angle * np.array(rotation_axis)/np.linalg.norm(rotation_axis)"
      ]
    },
    {
      "cell_type": "markdown",
      "metadata": {},
      "source": [
        "Define output_volume\n\n"
      ]
    },
    {
      "cell_type": "code",
      "execution_count": null,
      "metadata": {
        "collapsed": false
      },
      "outputs": [],
      "source": [
        "output_shape = list(input_data.shape)\noutput_affine = input_affine.copy()\n\nwindow=False\nif window:\n    output_shape[0] = 100\n    output_shape[1] = 100\n    output_affine[0,3] = output_affine[0,3] + 80\n    output_affine[1,3] = output_affine[1,3] + 80\n    output_affine[2,3] = output_affine[2,3] + 40"
      ]
    },
    {
      "cell_type": "markdown",
      "metadata": {},
      "source": [
        "Apply freeform deformation derived from affine transformation\n\n"
      ]
    },
    {
      "cell_type": "code",
      "execution_count": null,
      "metadata": {
        "collapsed": false
      },
      "outputs": [],
      "source": [
        "affine_parameters = np.concatenate((rotation, translation, stretch))\noutput_data = vreg.affine_freeform(\n    input_data, input_affine, \n    output_shape, output_affine, \n    affine_parameters, nodes=16)"
      ]
    },
    {
      "cell_type": "markdown",
      "metadata": {},
      "source": [
        "Display results\n\n"
      ]
    },
    {
      "cell_type": "code",
      "execution_count": null,
      "metadata": {
        "collapsed": false
      },
      "outputs": [],
      "source": [
        "vreg.plot_affine_transformed(\n    input_data, input_affine, \n    output_data, output_affine, \n    vreg.affine_matrix(rotation=rotation, translation=translation, pixel_spacing=stretch), \n    off_screen=OFF_SCREEN)"
      ]
    },
    {
      "cell_type": "markdown",
      "metadata": {},
      "source": [
        "## Find the freeform deformation\n\n"
      ]
    },
    {
      "cell_type": "code",
      "execution_count": null,
      "metadata": {
        "collapsed": false
      },
      "outputs": [],
      "source": [
        "nodes = 2\ndefo_init = np.zeros(vreg.deformation_field_shape(output_shape, nodes))\ndefo_estimate = vreg.align(\n    moving=input_data, moving_affine=input_affine, \n    static=output_data, static_affine=output_affine,  \n    resolutions=[4,2,1], parameters=defo_init.flatten(),\n    transformation=vreg.freeform, metric=vreg.sum_of_squares,\n    options={'xtol':1e-2},\n)"
      ]
    },
    {
      "cell_type": "markdown",
      "metadata": {},
      "source": [
        "## Check accuracy\nCompare translation against ground truth\n\n"
      ]
    },
    {
      "cell_type": "code",
      "execution_count": null,
      "metadata": {
        "collapsed": false
      },
      "outputs": [],
      "source": [
        "defo = vreg.affine_deformation_field(\n    input_affine, output_shape, output_affine, affine_parameters, nodes=nodes)\ndefo = defo.flatten()\nerr = np.linalg.norm(defo_estimate-defo)\nerr = 100*err/np.linalg.norm(defo)\nprint('Ground truth parameter: ', defo)\nprint('Parameter estimate: ', defo_estimate)\nprint('Parameter error (%): ', err)"
      ]
    },
    {
      "cell_type": "markdown",
      "metadata": {},
      "source": [
        "## Display result\nRotate the original volume\n\n"
      ]
    },
    {
      "cell_type": "code",
      "execution_count": null,
      "metadata": {
        "collapsed": false
      },
      "outputs": [],
      "source": [
        "output_data_estimate = vreg.freeform(\n    input_data, input_affine, \n    input_data.shape, input_affine, \n    defo_estimate)"
      ]
    },
    {
      "cell_type": "markdown",
      "metadata": {},
      "source": [
        "Compare rotated volume and target\n\n"
      ]
    },
    {
      "cell_type": "code",
      "execution_count": null,
      "metadata": {
        "collapsed": false
      },
      "outputs": [],
      "source": [
        "pl = vreg.plot_affine_resliced(\n    output_data_estimate, input_affine, \n    output_data, output_affine, \n    off_screen=OFF_SCREEN)\npl.show()"
      ]
    }
  ],
  "metadata": {
    "kernelspec": {
      "display_name": "Python 3",
      "language": "python",
      "name": "python3"
    },
    "language_info": {
      "codemirror_mode": {
        "name": "ipython",
        "version": 3
      },
      "file_extension": ".py",
      "mimetype": "text/x-python",
      "name": "python",
      "nbconvert_exporter": "python",
      "pygments_lexer": "ipython3",
      "version": "3.10.10"
    }
  },
  "nbformat": 4,
  "nbformat_minor": 0
}