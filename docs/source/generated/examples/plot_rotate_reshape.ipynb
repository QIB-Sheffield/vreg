{
  "cells": [
    {
      "cell_type": "markdown",
      "metadata": {},
      "source": [
        "\n# Plot rotate reshape\n"
      ]
    },
    {
      "cell_type": "code",
      "execution_count": null,
      "metadata": {
        "collapsed": false
      },
      "outputs": [],
      "source": [
        "import time\nimport numpy as np\n\nimport vreg\n\n# Generate reference volume\ninput_data, input_affine = vreg.generate('triple ellipsoid')\n\n# Define rotation\nangle = 0.1 * (np.pi/2)\naxis = [1,0,0]\nrotation = angle * np.array(axis)/np.linalg.norm(axis)\n\n# Perform rotation\nstart_time = time.time()\noutput_data, output_affine = vreg.rotate_reshape(input_data, input_affine, rotation) # not logical that this returns the output_affine\nend_time = time.time()\n\n# Display results\nprint('Computation time (sec): ', end_time-start_time)\ntransformation = vreg.affine_matrix(rotation=rotation)\nvreg.plot_affine_transformed(input_data, input_affine, output_data, output_affine, transformation, off_screen=True)"
      ]
    }
  ],
  "metadata": {
    "kernelspec": {
      "display_name": "Python 3",
      "language": "python",
      "name": "python3"
    },
    "language_info": {
      "codemirror_mode": {
        "name": "ipython",
        "version": 3
      },
      "file_extension": ".py",
      "mimetype": "text/x-python",
      "name": "python",
      "nbconvert_exporter": "python",
      "pygments_lexer": "ipython3",
      "version": "3.10.10"
    }
  },
  "nbformat": 4,
  "nbformat_minor": 0
}