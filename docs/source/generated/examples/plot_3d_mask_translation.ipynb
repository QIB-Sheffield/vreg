{
  "cells": [
    {
      "cell_type": "markdown",
      "metadata": {},
      "source": [
        "\n# 3D translation: 3D image to 3D mask\n"
      ]
    },
    {
      "cell_type": "markdown",
      "metadata": {},
      "source": [
        "Setup\n\n"
      ]
    },
    {
      "cell_type": "code",
      "execution_count": null,
      "metadata": {
        "collapsed": false
      },
      "outputs": [],
      "source": [
        "import vreg\n\n\n# Set this to False to show the results\nOFF_SCREEN = True"
      ]
    },
    {
      "cell_type": "markdown",
      "metadata": {},
      "source": [
        "Get data\n\n"
      ]
    },
    {
      "cell_type": "code",
      "execution_count": null,
      "metadata": {
        "collapsed": false
      },
      "outputs": [],
      "source": [
        "#mask = vreg.fetch('left_kidney')\nmask = vreg.fetch('right_kidney')\nslab = vreg.fetch('MTR')"
      ]
    },
    {
      "cell_type": "markdown",
      "metadata": {},
      "source": [
        "Reslice mask to the MTR image\n\n"
      ]
    },
    {
      "cell_type": "code",
      "execution_count": null,
      "metadata": {
        "collapsed": false
      },
      "outputs": [],
      "source": [
        "mask_slab, _ = vreg.affine_reslice(mask[0], mask[1], slab[1], \n                                output_shape=slab[0].shape)\nvreg.plot_overlay_2d(slab[0], mask_slab, title='Original data', \n                     off_screen=OFF_SCREEN)"
      ]
    },
    {
      "cell_type": "markdown",
      "metadata": {},
      "source": [
        "3D translation in slice coords\n\n"
      ]
    },
    {
      "cell_type": "code",
      "execution_count": null,
      "metadata": {
        "collapsed": false
      },
      "outputs": [],
      "source": [
        "grid = (\n    [-20, 20, 20],\n    [-20, 20, 20],\n    [-5, 5, 5],\n) \ntranslation = vreg.align(\n    moving=mask[0], moving_affine=mask[1],\n    static=slab[0], static_affine=slab[1],\n    transformation=vreg.translate_passive_ortho,\n    metric=vreg.mutual_information,\n    optimize='brute', options={'grid':grid},\n) \n# Apply the translation that we found\nmask_slab = vreg.translate_passive_ortho(mask[0], mask[1], slab[0].shape, \n                                         slab[1], translation) \n# Plot the result\nvreg.plot_overlay_2d(slab[0], mask_slab, title='3D translation')"
      ]
    }
  ],
  "metadata": {
    "kernelspec": {
      "display_name": "Python 3",
      "language": "python",
      "name": "python3"
    },
    "language_info": {
      "codemirror_mode": {
        "name": "ipython",
        "version": 3
      },
      "file_extension": ".py",
      "mimetype": "text/x-python",
      "name": "python",
      "nbconvert_exporter": "python",
      "pygments_lexer": "ipython3",
      "version": "3.10.10"
    }
  },
  "nbformat": 4,
  "nbformat_minor": 0
}