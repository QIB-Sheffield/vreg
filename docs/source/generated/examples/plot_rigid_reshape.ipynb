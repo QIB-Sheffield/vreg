{
  "cells": [
    {
      "cell_type": "markdown",
      "metadata": {},
      "source": [
        "\n# Plot rigid reshape\n"
      ]
    },
    {
      "cell_type": "code",
      "execution_count": null,
      "metadata": {
        "collapsed": false
      },
      "outputs": [],
      "source": [
        "import time\nimport numpy as np\n\nimport vreg\n\n\n# Generate input data\ninput_data, input_affine = vreg.generate('ellipsoid', markers=False)\n\n# Define rigid transformation\nangle = 0.5 * (np.pi/2)\naxis = [1,0,0]\ntranslation = np.array([0, 60, -40]) # mm\nrotation = angle * np.array(axis)/np.linalg.norm(axis)\n\n# Perform rigid transformation   \nstart_time = time.time()\noutput_data, output_affine = vreg.rigid_reshape(input_data, input_affine, rotation, translation)\nend_time = time.time()\n\n# Display results\nprint('Computation time (sec): ', end_time-start_time)\ntransformation = vreg.affine_matrix(rotation=rotation, translation=translation)\nvreg.plot_affine_transformed(input_data, input_affine, output_data, output_affine, transformation, off_screen=True)"
      ]
    }
  ],
  "metadata": {
    "kernelspec": {
      "display_name": "Python 3",
      "language": "python",
      "name": "python3"
    },
    "language_info": {
      "codemirror_mode": {
        "name": "ipython",
        "version": 3
      },
      "file_extension": ".py",
      "mimetype": "text/x-python",
      "name": "python",
      "nbconvert_exporter": "python",
      "pygments_lexer": "ipython3",
      "version": "3.10.10"
    }
  },
  "nbformat": 4,
  "nbformat_minor": 0
}