{
  "cells": [
    {
      "cell_type": "markdown",
      "metadata": {},
      "source": [
        "\n# 2D in-slice translation: 2D multislice image to 3D mask\n"
      ]
    },
    {
      "cell_type": "markdown",
      "metadata": {},
      "source": [
        "Setup\n\n"
      ]
    },
    {
      "cell_type": "code",
      "execution_count": null,
      "metadata": {
        "collapsed": false
      },
      "outputs": [],
      "source": [
        "import vreg\n\n\n# Set this to False to show the results\nOFF_SCREEN = True"
      ]
    },
    {
      "cell_type": "markdown",
      "metadata": {},
      "source": [
        "Get data\n\n"
      ]
    },
    {
      "cell_type": "code",
      "execution_count": null,
      "metadata": {
        "collapsed": false
      },
      "outputs": [],
      "source": [
        "#dixon = vreg.fetch('Dixon_water')\nmask = vreg.fetch('left_kidney')\n#mask = vreg.fetch('right_kidney')\nmultislice = vreg.fetch('T1')"
      ]
    },
    {
      "cell_type": "markdown",
      "metadata": {},
      "source": [
        "Reslice left kidney ROI to the multislice image (slice 0)\n\n"
      ]
    },
    {
      "cell_type": "code",
      "execution_count": null,
      "metadata": {
        "collapsed": false
      },
      "outputs": [],
      "source": [
        "mask_slices = [\n    vreg.affine_reslice(\n        mask[0], mask[1], oneslice[1], output_shape=oneslice[0].shape,\n    ) for oneslice in multislice\n]\nvreg.plot_overlay_2d(\n    [v[0] for v in multislice], \n    [v[0] for v in mask_slices],\n    title='Original data',\n    off_screen=OFF_SCREEN,\n)"
      ]
    },
    {
      "cell_type": "markdown",
      "metadata": {},
      "source": [
        "Let's see if we can find the optimal translation automatically by \nfitting for the translation vector. \n\n"
      ]
    },
    {
      "cell_type": "code",
      "execution_count": null,
      "metadata": {
        "collapsed": false
      },
      "outputs": [],
      "source": [
        "translation = [\n    vreg.align(\n        moving=mask[0], moving_affine=mask[1],\n        static=oneslice[0], static_affine=oneslice[1],\n        transformation=vreg.translate_passive_inslice,\n        metric=vreg.mi_grad, \n        #metric=vreg.mutual_information, \n        optimize='brute', options={'grid':2*[[-20,20,20]]},\n    ) for oneslice in multislice\n]\n# Apply the translation that we found\nmask_slices = [\n    vreg.translate_passive_inslice(\n        mask[0], mask[1], oneslice[0].shape, oneslice[1], translation[z],\n    ) for z, oneslice in enumerate(multislice)\n]\n# Plot the result\nvreg.plot_overlay_2d([v[0] for v in multislice], mask_slices, \n                     title='In-slice translation')"
      ]
    }
  ],
  "metadata": {
    "kernelspec": {
      "display_name": "Python 3",
      "language": "python",
      "name": "python3"
    },
    "language_info": {
      "codemirror_mode": {
        "name": "ipython",
        "version": 3
      },
      "file_extension": ".py",
      "mimetype": "text/x-python",
      "name": "python",
      "nbconvert_exporter": "python",
      "pygments_lexer": "ipython3",
      "version": "3.10.10"
    }
  },
  "nbformat": 4,
  "nbformat_minor": 0
}