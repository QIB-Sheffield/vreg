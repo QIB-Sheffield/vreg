{
  "cells": [
    {
      "cell_type": "markdown",
      "metadata": {},
      "source": [
        "\n# 3D translation: multislice 2D image to 3D mask\n"
      ]
    },
    {
      "cell_type": "markdown",
      "metadata": {},
      "source": [
        "Setup\n\n"
      ]
    },
    {
      "cell_type": "code",
      "execution_count": null,
      "metadata": {
        "collapsed": false
      },
      "outputs": [],
      "source": [
        "import vreg\nfrom tqdm import tqdm\n\n\n# Set this to False to show the results\nOFF_SCREEN = True"
      ]
    },
    {
      "cell_type": "markdown",
      "metadata": {},
      "source": [
        "Get data\n\n"
      ]
    },
    {
      "cell_type": "code",
      "execution_count": null,
      "metadata": {
        "collapsed": false
      },
      "outputs": [],
      "source": [
        "dixon = vreg.Volume(*vreg.fetch('Dixon_water'))\nlk = vreg.fetch('left_kidney')\nrk = vreg.fetch('right_kidney')\nlk = vreg.affine_reslice(lk[0], lk[1], dixon[1], output_shape=dixon[0].shape)\nrk = vreg.affine_reslice(rk[0], rk[1], dixon[1], output_shape=dixon[0].shape)\nmask = (lk[0]+rk[0], dixon[1])\ndixon = vreg.mask_volume(dixon[0], dixon[1], mask[0], mask[1], 20)\nmultislice = vreg.fetch('T2star')\n#multislice = vreg.fetch('T1')"
      ]
    },
    {
      "cell_type": "markdown",
      "metadata": {},
      "source": [
        "Reslice left kidney ROI to the T1-map (slice 0)\n\n"
      ]
    },
    {
      "cell_type": "code",
      "execution_count": null,
      "metadata": {
        "collapsed": false
      },
      "outputs": [],
      "source": [
        "mask_slices = [\n    vreg.affine_reslice(\n        mask[0], mask[1], oneslice[1], output_shape=oneslice[0].shape,\n    ) for oneslice in multislice\n]\nvreg.plot_overlay_2d(\n    [v[0] for v in multislice], \n    [v[0] for v in mask_slices],\n    title='Original data',\n    off_screen=OFF_SCREEN,\n)\n\nexit()"
      ]
    },
    {
      "cell_type": "markdown",
      "metadata": {},
      "source": [
        "3D translation in slice coords\n\n"
      ]
    },
    {
      "cell_type": "code",
      "execution_count": null,
      "metadata": {
        "collapsed": false
      },
      "outputs": [],
      "source": [
        "grid = (\n    [-20, 20, 20],\n    [-20, 20, 20],\n    [-5, 5, 5],\n) \ntranslation = [\n    vreg.align(\n        moving=mask[0], moving_affine=mask[1],\n        #moving=dixon[0], moving_affine=dixon[1],\n        static=oneslice[0], static_affine=oneslice[1],\n        transformation=vreg.translate_passive_ortho,\n        metric=vreg.mutual_information,\n        optimize='brute', \n        options={\n            'grid':grid, \n            'desc':'Translating ' + str(z) + ' out of ' + str(len(multislice))\n        },\n    ) for z, oneslice in enumerate(multislice)\n]\n# Apply the translation that we found\nmask_slices = [\n    vreg.translate_passive_ortho(mask[0], mask[1], oneslice[0].shape, \n                                 oneslice[1], translation[z]) \n    for z, oneslice in enumerate(multislice)\n]\n# Plot the result\nvreg.plot_overlay_2d([v[0] for v in multislice], mask_slices, \n                     title='3D translation')"
      ]
    },
    {
      "cell_type": "markdown",
      "metadata": {},
      "source": [
        "Fine tune left kidney with a rigid transformation\n\n"
      ]
    },
    {
      "cell_type": "code",
      "execution_count": null,
      "metadata": {
        "collapsed": false
      },
      "outputs": [],
      "source": [
        "grids = [\n    (\n        [-0.2, 0.2, 4],\n        [-0.2, 0.2, 4],\n        [-0.2, 0.2, 4],\n        [t[0]-2, t[0]+2, 4],\n        [t[1]-2, t[1]+2, 4],\n        [t[2]-2, t[2]+2, 4],\n    ) \nfor t in translation]\n\n# bounds = [\n#     (\n#         [g[0] for g in grid],\n#         [g[1] for g in grid],\n#     )\n# for grid in grids]\n\n# Find the transformation\nparams = [\n    vreg.align(\n        moving=lk[0], moving_affine=lk[1],\n        #moving=dixon[0], moving_affine=dixon[1],\n        static=oneslice[0], static_affine=oneslice[1],\n        transformation=vreg.rigid_passive_com_ortho,\n        metric=vreg.mutual_information,\n        # optimize='LS',\n        # parameters=[0]*3 + list(translation[z]),\n        # options={\n        #     'bounds': bounds[z],\n        #     'abs_step': [0.01]*3+[0.1]*3,\n        # },\n        optimize='brute', \n        options={\n            'grid':grids[z],\n            'desc':'Transforming ' + str(z) + ' out of ' + str(len(multislice))\n        },\n    ) for z, oneslice in tqdm(enumerate(multislice), desc='Left kidney alignment')\n]\n# Apply the transformation to the mask\nmask_slices = [\n    vreg.rigid_passive_com_ortho(lk[0], lk[1], oneslice[0].shape, \n                                 oneslice[1], params[z]) \n    for z, oneslice in enumerate(multislice)\n]\n# Plot the result\nvreg.plot_overlay_2d([v[0] for v in multislice], mask_slices, \n                     title='3D rigid')"
      ]
    },
    {
      "cell_type": "markdown",
      "metadata": {},
      "source": [
        "Fine tune right kidney with a rigid transformation\n\n"
      ]
    },
    {
      "cell_type": "code",
      "execution_count": null,
      "metadata": {
        "collapsed": false
      },
      "outputs": [],
      "source": [
        "# Find the transformation\nparams = [\n    vreg.align(\n        moving=rk[0], moving_affine=rk[1],\n        #moving=dixon[0], moving_affine=dixon[1],\n        static=oneslice[0], static_affine=oneslice[1],\n        transformation=vreg.rigid_passive_com_ortho,\n        metric=vreg.mutual_information,\n        # parameters=[0]*3 + list(translation[z]),\n        # optimize='LS',\n        # options={\n        #     'bounds': bounds[z],\n        #     'abs_step': [0.01]*3+[0.1]*3,\n        # },\n        optimize='brute', \n        options={\n            'grid':grids[z],\n            'desc':'Transforming ' + str(z) + ' out of ' + str(len(multislice))\n        },\n    ) for z, oneslice in tqdm(enumerate(multislice), desc='Right kidney alignment')\n]\n# Apply the transformation to the mask\nmask_slices = [\n    vreg.rigid_passive_com_ortho(rk[0], rk[1], oneslice[0].shape, \n                                 oneslice[1], params[z]) \n    for z, oneslice in enumerate(multislice)\n]\n# Plot the result\nvreg.plot_overlay_2d([v[0] for v in multislice], mask_slices, \n                     title='3D rigid')"
      ]
    }
  ],
  "metadata": {
    "kernelspec": {
      "display_name": "Python 3",
      "language": "python",
      "name": "python3"
    },
    "language_info": {
      "codemirror_mode": {
        "name": "ipython",
        "version": 3
      },
      "file_extension": ".py",
      "mimetype": "text/x-python",
      "name": "python",
      "nbconvert_exporter": "python",
      "pygments_lexer": "ipython3",
      "version": "3.10.10"
    }
  },
  "nbformat": 4,
  "nbformat_minor": 0
}