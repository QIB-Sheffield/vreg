{
  "cells": [
    {
      "cell_type": "markdown",
      "metadata": {},
      "source": [
        "\n# Plot translate reshape\n"
      ]
    },
    {
      "cell_type": "code",
      "execution_count": null,
      "metadata": {
        "collapsed": false
      },
      "outputs": [],
      "source": [
        "import time\nimport numpy as np\nimport vreg\n\n\n\n\n# Define geometry of source data\ninput_shape = np.array([300, 250, 12])   # mm\npixel_spacing = np.array([1.25, 1.25, 10.0]) # mm\nrotation_angle = 0.0 * (np.pi/2) # radians\nrotation_axis = [1,0,0]\ntranslation = np.array([0, 0, 0]) # mm\n\n# Generate reference volume\nrotation = rotation_angle * np.array(rotation_axis)/np.linalg.norm(rotation_axis)\ninput_affine = vreg.affine_matrix(rotation=rotation, translation=translation, pixel_spacing=pixel_spacing)\ninput_data, input_affine = vreg.generate('triple ellipsoid', shape=input_shape, affine=input_affine)\n\n# Perform translation with reshaping\ntranslation = np.array([0, -30, 0]) # mm\nstart_time = time.time()\nouput_data, output_affine = vreg.translate_reshape(input_data, input_affine, translation)\nend_time = time.time()\n\n# Display results\nprint('Computation time (sec): ', end_time-start_time)\ntransformation = vreg.affine_matrix(translation=translation)\nvreg.plot_affine_transformed(input_data, input_affine, ouput_data, output_affine, transformation, off_screen=True)"
      ]
    }
  ],
  "metadata": {
    "kernelspec": {
      "display_name": "Python 3",
      "language": "python",
      "name": "python3"
    },
    "language_info": {
      "codemirror_mode": {
        "name": "ipython",
        "version": 3
      },
      "file_extension": ".py",
      "mimetype": "text/x-python",
      "name": "python",
      "nbconvert_exporter": "python",
      "pygments_lexer": "ipython3",
      "version": "3.10.10"
    }
  },
  "nbformat": 4,
  "nbformat_minor": 0
}