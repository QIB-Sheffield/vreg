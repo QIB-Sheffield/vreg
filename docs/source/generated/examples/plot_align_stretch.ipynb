{
  "cells": [
    {
      "cell_type": "markdown",
      "metadata": {},
      "source": [
        "\n# Plot align stretch\n"
      ]
    },
    {
      "cell_type": "markdown",
      "metadata": {},
      "source": [
        "## Setup\nImport packages and get test data\n\n"
      ]
    },
    {
      "cell_type": "code",
      "execution_count": null,
      "metadata": {
        "collapsed": false
      },
      "outputs": [],
      "source": [
        "import numpy as np\nimport vreg\n\n# Set this to False to show the results\nOFF_SCREEN = True"
      ]
    },
    {
      "cell_type": "markdown",
      "metadata": {},
      "source": [
        "## Generate test data\nGenerate reference volume\n\n"
      ]
    },
    {
      "cell_type": "code",
      "execution_count": null,
      "metadata": {
        "collapsed": false
      },
      "outputs": [],
      "source": [
        "input_data, input_affine = vreg.generate('triple ellipsoid', markers=False)"
      ]
    },
    {
      "cell_type": "markdown",
      "metadata": {},
      "source": [
        "Define transformation\n\n"
      ]
    },
    {
      "cell_type": "code",
      "execution_count": null,
      "metadata": {
        "collapsed": false
      },
      "outputs": [],
      "source": [
        "stretch_factor = [1.0, 1.1, 0.9]"
      ]
    },
    {
      "cell_type": "markdown",
      "metadata": {},
      "source": [
        "Define output geometry\n\n"
      ]
    },
    {
      "cell_type": "code",
      "execution_count": null,
      "metadata": {
        "collapsed": false
      },
      "outputs": [],
      "source": [
        "output_shape = input_data.shape\noutput_affine = input_affine"
      ]
    },
    {
      "cell_type": "markdown",
      "metadata": {},
      "source": [
        "Stretch and reslice reference volume\n\n"
      ]
    },
    {
      "cell_type": "code",
      "execution_count": null,
      "metadata": {
        "collapsed": false
      },
      "outputs": [],
      "source": [
        "output_data = vreg.stretch(\n    input_data, input_affine, \n    output_shape, output_affine, \n    stretch_factor)"
      ]
    },
    {
      "cell_type": "markdown",
      "metadata": {},
      "source": [
        "## Plot test data\nThe grey volume is the original shape, and the red surface represents the \nsame shape after stretching and reslicing to the red slab.\n\n"
      ]
    },
    {
      "cell_type": "code",
      "execution_count": null,
      "metadata": {
        "collapsed": false
      },
      "outputs": [],
      "source": [
        "vreg.plot_affine_transformed(\n    input_data, input_affine, \n    output_data, output_affine, \n    vreg.affine_matrix(pixel_spacing=stretch_factor), \n    off_screen=OFF_SCREEN)"
      ]
    },
    {
      "cell_type": "markdown",
      "metadata": {},
      "source": [
        "## Find the stretch factor\n\n"
      ]
    },
    {
      "cell_type": "code",
      "execution_count": null,
      "metadata": {
        "collapsed": false
      },
      "outputs": [],
      "source": [
        "stretch_factor_estimate = vreg.align(\n    moving=input_data, moving_affine=input_affine, \n    static=output_data, static_affine=output_affine, \n    parameters=np.array([1, 1, 1], dtype=np.float32), \n    resolutions=[4,2,1], transformation=vreg.stretch,\n    metric=vreg.sum_of_squares,\n    options={'bounds':(0, np.inf)},\n)"
      ]
    },
    {
      "cell_type": "markdown",
      "metadata": {},
      "source": [
        "## Check accuracy\nCompare translation against ground truth\n\n"
      ]
    },
    {
      "cell_type": "code",
      "execution_count": null,
      "metadata": {
        "collapsed": false
      },
      "outputs": [],
      "source": [
        "err = np.linalg.norm(stretch_factor_estimate-stretch_factor)\nerr = 100*err/np.linalg.norm(stretch_factor)\nprint('Ground truth parameter: ', stretch_factor)\nprint('Parameter estimate: ', stretch_factor_estimate)\nprint('Parameter error (%): ', err)"
      ]
    },
    {
      "cell_type": "markdown",
      "metadata": {},
      "source": [
        "## Display result\nStretch the original volume\n\n"
      ]
    },
    {
      "cell_type": "code",
      "execution_count": null,
      "metadata": {
        "collapsed": false
      },
      "outputs": [],
      "source": [
        "output_data_estimate = vreg.stretch(\n    input_data, input_affine, \n    input_data.shape, input_affine, \n    stretch_factor_estimate)"
      ]
    },
    {
      "cell_type": "markdown",
      "metadata": {},
      "source": [
        "Compare stretched volume and target\n\n"
      ]
    },
    {
      "cell_type": "code",
      "execution_count": null,
      "metadata": {
        "collapsed": false
      },
      "outputs": [],
      "source": [
        "pl = vreg.plot_affine_resliced(\n    output_data_estimate, input_affine, \n    output_data, output_affine, \n    off_screen=OFF_SCREEN)\npl.show()"
      ]
    }
  ],
  "metadata": {
    "kernelspec": {
      "display_name": "Python 3",
      "language": "python",
      "name": "python3"
    },
    "language_info": {
      "codemirror_mode": {
        "name": "ipython",
        "version": 3
      },
      "file_extension": ".py",
      "mimetype": "text/x-python",
      "name": "python",
      "nbconvert_exporter": "python",
      "pygments_lexer": "ipython3",
      "version": "3.10.10"
    }
  },
  "nbformat": 4,
  "nbformat_minor": 0
}