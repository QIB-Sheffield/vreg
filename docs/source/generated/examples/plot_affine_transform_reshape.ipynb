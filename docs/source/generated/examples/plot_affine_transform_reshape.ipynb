{
  "cells": [
    {
      "cell_type": "markdown",
      "metadata": {},
      "source": [
        "\n# Plot affine wit reshape\n"
      ]
    },
    {
      "cell_type": "code",
      "execution_count": null,
      "metadata": {
        "collapsed": false
      },
      "outputs": [],
      "source": [
        "import time\nimport numpy as np\nimport vreg\n\n\n# Define geometry of source data\ninput_shape = np.array([300, 250, 25])   # mm\npixel_spacing = np.array([1.25, 1.25, 5.0]) # mm\ntranslation = np.array([0, 0, 0]) # mm\nrotation_angle = 0.2 * (np.pi/2) # radians\nrotation_axis = [1,0,0]\n\n# Generate source volume data\nrotation = rotation_angle * np.array(rotation_axis)/np.linalg.norm(rotation_axis)\ninput_affine = vreg.affine_matrix(rotation=rotation, translation=translation, pixel_spacing=pixel_spacing)\ninput_data, input_affine = vreg.generate('triple ellipsoid', shape=input_shape, affine=input_affine)\n\n# Define affine transformation\nstretch = [1.0, 1, 2.0]\ntranslation = np.array([0, 20, 0]) # mm\nrotation_angle = 0.20 * (np.pi/2)\nrotation_axis = [0,0,1]\n\n# Perform affine transformation\nstart_time = time.time()\nrotation = rotation_angle * np.array(rotation_axis)/np.linalg.norm(rotation_axis)\ntransformation = vreg.affine_matrix(rotation=rotation, translation=translation, pixel_spacing=stretch)\noutput_data, output_affine = vreg.affine_transform(input_data, input_affine, transformation, reshape=True)\nend_time = time.time()\n\n# Display results\nprint('Computation time (sec): ', end_time-start_time)\nvreg.plot_affine_transformed(input_data, input_affine, output_data, output_affine, transformation, off_screen=True)"
      ]
    }
  ],
  "metadata": {
    "kernelspec": {
      "display_name": "Python 3",
      "language": "python",
      "name": "python3"
    },
    "language_info": {
      "codemirror_mode": {
        "name": "ipython",
        "version": 3
      },
      "file_extension": ".py",
      "mimetype": "text/x-python",
      "name": "python",
      "nbconvert_exporter": "python",
      "pygments_lexer": "ipython3",
      "version": "3.10.10"
    }
  },
  "nbformat": 4,
  "nbformat_minor": 0
}