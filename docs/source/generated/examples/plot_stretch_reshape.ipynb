{
  "cells": [
    {
      "cell_type": "markdown",
      "metadata": {},
      "source": [
        "\n# Plot stretch reshape\n"
      ]
    },
    {
      "cell_type": "code",
      "execution_count": null,
      "metadata": {
        "collapsed": false
      },
      "outputs": [],
      "source": [
        "import time\nimport numpy as np\n\nimport vreg\n\n# Generate reference volume\ninput_data, input_affine = vreg.generate('triple ellipsoid', markers=False)\n\n# Define transformation\nstretch_factor = np.array([2.0, 2.5, 0.5])\n\n# Perform transformation\nstart_time = time.time()\noutput_data, output_affine = vreg.stretch_reshape(input_data, input_affine, stretch_factor) # specifying outputshape and affine should not be required\nend_time = time.time()\n\n# Display results\n\nprint('Computation time (sec): ', end_time-start_time)\ntransformation = vreg.affine_matrix(pixel_spacing=stretch_factor)\nvreg.plot_affine_transformed(input_data, input_affine, output_data, output_affine, transformation, off_screen=True)"
      ]
    }
  ],
  "metadata": {
    "kernelspec": {
      "display_name": "Python 3",
      "language": "python",
      "name": "python3"
    },
    "language_info": {
      "codemirror_mode": {
        "name": "ipython",
        "version": 3
      },
      "file_extension": ".py",
      "mimetype": "text/x-python",
      "name": "python",
      "nbconvert_exporter": "python",
      "pygments_lexer": "ipython3",
      "version": "3.10.10"
    }
  },
  "nbformat": 4,
  "nbformat_minor": 0
}