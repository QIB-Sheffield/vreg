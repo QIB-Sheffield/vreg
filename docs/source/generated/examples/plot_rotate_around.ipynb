{
  "cells": [
    {
      "cell_type": "markdown",
      "metadata": {},
      "source": [
        "\n# Plot rotate around\n"
      ]
    },
    {
      "cell_type": "code",
      "execution_count": null,
      "metadata": {
        "collapsed": false
      },
      "outputs": [],
      "source": [
        "import time\nimport numpy as np\n\nimport vreg\n\n\n# Generate reference volume\ninput_data, input_affine = vreg.generate('ellipsoid', markers=False)\n\n# Define rotation\nrotation = 0.5 * np.pi/2 * np.array([1, 0, 0]) # radians\ncom = vreg.center_of_mass(input_data, input_affine)\n\n# Define output_volume\noutput_shape = input_data.shape\noutput_affine = input_affine\n\n# Perform rotation\nstart_time = time.time()\nparameters = np.concatenate((rotation, com))\noutput_data = vreg.rotate_around(input_data, input_affine, output_shape, output_affine, parameters)\nend_time = time.time()\n\n# Display results\nprint('Computation time (sec): ', end_time-start_time)\ntransformation = vreg.affine_matrix(rotation=rotation, center=com)\nvreg.plot_affine_transformed(input_data, input_affine, output_data, output_affine, transformation, off_screen=True)"
      ]
    }
  ],
  "metadata": {
    "kernelspec": {
      "display_name": "Python 3",
      "language": "python",
      "name": "python3"
    },
    "language_info": {
      "codemirror_mode": {
        "name": "ipython",
        "version": 3
      },
      "file_extension": ".py",
      "mimetype": "text/x-python",
      "name": "python",
      "nbconvert_exporter": "python",
      "pygments_lexer": "ipython3",
      "version": "3.10.10"
    }
  },
  "nbformat": 4,
  "nbformat_minor": 0
}