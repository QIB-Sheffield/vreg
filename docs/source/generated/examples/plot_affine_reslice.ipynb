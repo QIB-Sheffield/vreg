{
  "cells": [
    {
      "cell_type": "markdown",
      "metadata": {},
      "source": [
        "\n# Plot affine with reslice\n"
      ]
    },
    {
      "cell_type": "code",
      "execution_count": null,
      "metadata": {
        "collapsed": false
      },
      "outputs": [],
      "source": [
        "import time\nimport vreg\n\nn=4\n\nif n==1:\n    input_data, input_affine, output_affine, output_shape = vreg.generate_reslice_data_1()\nelif n==2:\n    input_data, input_affine, output_affine, output_shape = vreg.generate_reslice_data_2()\nelif n==3:\n    input_data, input_affine, output_affine, output_shape = vreg.generate_reslice_data_3()\nelif n==4:\n    input_data, input_affine, output_affine, output_shape = vreg.generate_reslice_data_4()\nelif n==5:\n    input_data, input_affine, output_affine, output_shape = vreg.generate_reslice_data_5()\nelif n==6:\n    input_data, input_affine, output_affine, output_shape = vreg.generate_reslice_data_6()\n\nstart_time = time.time()\noutput_data, output_affine = vreg.affine_reslice(input_data, input_affine, output_affine, output_shape=output_shape)\nend_time = time.time()\n\n# Display results\nprint('Computation time (sec): ', end_time-start_time)\npl = vreg.plot_affine_resliced(input_data, input_affine, output_data, output_affine, off_screen=True)\npl.show_grid()\npl.show()"
      ]
    }
  ],
  "metadata": {
    "kernelspec": {
      "display_name": "Python 3",
      "language": "python",
      "name": "python3"
    },
    "language_info": {
      "codemirror_mode": {
        "name": "ipython",
        "version": 3
      },
      "file_extension": ".py",
      "mimetype": "text/x-python",
      "name": "python",
      "nbconvert_exporter": "python",
      "pygments_lexer": "ipython3",
      "version": "3.10.10"
    }
  },
  "nbformat": 4,
  "nbformat_minor": 0
}