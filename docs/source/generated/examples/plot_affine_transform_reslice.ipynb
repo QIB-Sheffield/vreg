{
  "cells": [
    {
      "cell_type": "markdown",
      "metadata": {},
      "source": [
        "\n# Plot affine transform reslice\n"
      ]
    },
    {
      "cell_type": "code",
      "execution_count": null,
      "metadata": {
        "collapsed": false
      },
      "outputs": [],
      "source": [
        "import numpy as np\nimport vreg\n\n\n\n# Define geometry of input data\ninput_shape = np.array([400, 300, 120])   # mm\npixel_spacing = np.array([1.0, 1.0, 1.0]) # mm\ntranslation = np.array([0, 0, 0]) # mm\nrotation_angle = -0.2 * (np.pi/2) # radians\nrotation_axis = [1,0,0]\nrotation = rotation_angle * np.array(rotation_axis)/np.linalg.norm(rotation_axis)\ninput_affine = vreg.affine_matrix(rotation=rotation, translation=translation, pixel_spacing=pixel_spacing)\n\n# Define geometry of output data\noutput_shape = np.array([350, 300, 10])\npixel_spacing = np.array([1.25, 1.25, 5.0]) # mm\ntranslation = np.array([100, -30, -40]) # mm\nrotation_angle = 0.0 * (np.pi/2) # radians\nrotation_axis = [1,0,0]\nrotation = rotation_angle * np.array(rotation_axis)/np.linalg.norm(rotation_axis)\noutput_affine = vreg.affine_matrix(rotation=rotation, translation=translation, pixel_spacing=pixel_spacing)\n\n# Define affine transformation\nstretch = [1.25, 1, 1.0]\ntranslation = np.array([20, 0, 0]) # mm\nrotation_angle = 0.1 * (np.pi/2)\nrotation_axis = [1,0,0]\nrotation = rotation_angle * np.array(rotation_axis)/np.linalg.norm(rotation_axis)\ntransformation = vreg.affine_matrix(rotation=rotation, translation=translation, pixel_spacing=stretch)\n\n# Generate input data\ninput_data, input_affine = vreg.generate('triple ellipsoid', shape=input_shape, affine=input_affine)\n\n# Calculate affine transform\noutput_data = vreg.affine_transform_and_reslice(input_data, input_affine, output_shape, output_affine, transformation)\n\n# Display results\nvreg.plot_affine_transform_reslice(input_data, input_affine, output_data, output_affine, transformation, off_screen=True)"
      ]
    }
  ],
  "metadata": {
    "kernelspec": {
      "display_name": "Python 3",
      "language": "python",
      "name": "python3"
    },
    "language_info": {
      "codemirror_mode": {
        "name": "ipython",
        "version": 3
      },
      "file_extension": ".py",
      "mimetype": "text/x-python",
      "name": "python",
      "nbconvert_exporter": "python",
      "pygments_lexer": "ipython3",
      "version": "3.10.10"
    }
  },
  "nbformat": 4,
  "nbformat_minor": 0
}