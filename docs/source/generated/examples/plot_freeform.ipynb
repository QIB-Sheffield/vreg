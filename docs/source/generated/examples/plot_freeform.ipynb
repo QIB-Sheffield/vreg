{
  "cells": [
    {
      "cell_type": "markdown",
      "metadata": {},
      "source": [
        "\n# Plot freeform\n"
      ]
    },
    {
      "cell_type": "markdown",
      "metadata": {},
      "source": [
        "Setup\n\n"
      ]
    },
    {
      "cell_type": "code",
      "execution_count": null,
      "metadata": {
        "collapsed": false
      },
      "outputs": [],
      "source": [
        "import numpy as np\nimport vreg\n\n# Set this to False to show the results\nOFF_SCREEN = True"
      ]
    },
    {
      "cell_type": "markdown",
      "metadata": {},
      "source": [
        "Define geometry of source data\n\n"
      ]
    },
    {
      "cell_type": "code",
      "execution_count": null,
      "metadata": {
        "collapsed": false
      },
      "outputs": [],
      "source": [
        "input_shape = np.array([300, 250, 25])   # mm\npixel_spacing = np.array([1.25, 1.25, 5.0]) # mm\ntranslation = np.array([0, 0, 0]) # mm\nrotation_angle = 0.2 * (np.pi/2) # radians\nrotation_axis = [1,0,0]"
      ]
    },
    {
      "cell_type": "markdown",
      "metadata": {},
      "source": [
        "Generate source data\n\n"
      ]
    },
    {
      "cell_type": "code",
      "execution_count": null,
      "metadata": {
        "collapsed": false
      },
      "outputs": [],
      "source": [
        "rotation = rotation_angle * np.array(rotation_axis)/np.linalg.norm(rotation_axis)\ninput_affine = vreg.affine_matrix(rotation=rotation, translation=translation, pixel_spacing=pixel_spacing)\ninput_data, input_affine = vreg.generate('triple ellipsoid', shape=input_shape, affine=input_affine, markers=False)"
      ]
    },
    {
      "cell_type": "markdown",
      "metadata": {},
      "source": [
        "Define affine transformation\n\n"
      ]
    },
    {
      "cell_type": "code",
      "execution_count": null,
      "metadata": {
        "collapsed": false
      },
      "outputs": [],
      "source": [
        "stretch = [1.0, 1.5, 1.5]\ntranslation = np.array([30, -80, -20]) # mm\nrotation_angle = 0.50 * (np.pi/2)\nrotation_axis = [0,0,1]\nrotation = rotation_angle * np.array(rotation_axis)/np.linalg.norm(rotation_axis)"
      ]
    },
    {
      "cell_type": "markdown",
      "metadata": {},
      "source": [
        "Define output_volume\n\n"
      ]
    },
    {
      "cell_type": "code",
      "execution_count": null,
      "metadata": {
        "collapsed": false
      },
      "outputs": [],
      "source": [
        "output_shape = list(input_data.shape)\noutput_affine = input_affine.copy()\n\nwindow=False\nif window:\n    output_shape[0] = 100\n    output_shape[1] = 100\n    output_affine[0,3] = output_affine[0,3] + 80\n    output_affine[1,3] = output_affine[1,3] + 80\n    output_affine[2,3] = output_affine[2,3] + 40"
      ]
    },
    {
      "cell_type": "markdown",
      "metadata": {},
      "source": [
        "Get exact results for affine transformation\n\n"
      ]
    },
    {
      "cell_type": "code",
      "execution_count": null,
      "metadata": {
        "collapsed": false
      },
      "outputs": [],
      "source": [
        "parameters = np.concatenate((rotation, translation, stretch))\nexact_output_data = vreg.affine(input_data, input_affine, output_shape, output_affine, parameters)\naffine_matrix = vreg.affine_matrix(rotation=rotation, translation=translation, pixel_spacing=stretch)"
      ]
    },
    {
      "cell_type": "markdown",
      "metadata": {},
      "source": [
        "Show affine transform\n\n"
      ]
    },
    {
      "cell_type": "code",
      "execution_count": null,
      "metadata": {
        "collapsed": false
      },
      "outputs": [],
      "source": [
        "vreg.plot_affine_transformed(\n    input_data, input_affine, \n    exact_output_data, output_affine, \n    affine_matrix, off_screen=OFF_SCREEN)"
      ]
    },
    {
      "cell_type": "markdown",
      "metadata": {},
      "source": [
        "Apply freeform deformation derived from affine transformation\n\n"
      ]
    },
    {
      "cell_type": "code",
      "execution_count": null,
      "metadata": {
        "collapsed": false
      },
      "outputs": [],
      "source": [
        "output_data = vreg.affine_freeform(\n        input_data, input_affine, \n        output_shape, output_affine, \n        parameters, nodes=16)"
      ]
    },
    {
      "cell_type": "markdown",
      "metadata": {},
      "source": [
        "Display results\n\n"
      ]
    },
    {
      "cell_type": "code",
      "execution_count": null,
      "metadata": {
        "collapsed": false
      },
      "outputs": [],
      "source": [
        "error = np.linalg.norm(output_data-exact_output_data)/np.linalg.norm(exact_output_data)\nprint('Error (%): ', 100*error)\nvreg.plot_affine_transformed(\n    input_data, input_affine, \n    output_data, output_affine, \n    affine_matrix, \n    off_screen=OFF_SCREEN)"
      ]
    }
  ],
  "metadata": {
    "kernelspec": {
      "display_name": "Python 3",
      "language": "python",
      "name": "python3"
    },
    "language_info": {
      "codemirror_mode": {
        "name": "ipython",
        "version": 3
      },
      "file_extension": ".py",
      "mimetype": "text/x-python",
      "name": "python",
      "nbconvert_exporter": "python",
      "pygments_lexer": "ipython3",
      "version": "3.10.10"
    }
  },
  "nbformat": 4,
  "nbformat_minor": 0
}